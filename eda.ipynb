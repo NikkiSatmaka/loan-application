{
 "cells": [
  {
   "cell_type": "markdown",
   "metadata": {},
   "source": [
    "# 1. Introduction\n",
    "\n",
    "Nikki Satmaka - Batch 11"
   ]
  },
  {
   "cell_type": "markdown",
   "metadata": {},
   "source": [
    "## Description\n",
    "\n",
    "Dataset is taken from [Kaggle](https://www.kaggle.com/blastchar/telco-customer-churn)\n",
    "\n",
    "Context:\n",
    "\n",
    "This dataset contains the information related to customers of a telco company that provided home phone and Internet services to 7043 customers in California in Q3. It indicates which customers have left or stayed for their service.\n",
    "\n",
    "1. `customerID` : A unique ID that identifies each customer.\n",
    "1. `gender` : The customer’s gender: Male, Female\n",
    "1. `SeniorCitizen` : Indicates if the customer is 65 or older: 1 = Senior Citizen, 0 = Not Senior Citizen\n",
    "1. `Partner` : Indicates if the customer is married: Yes, No\n",
    "1. `Dependents` : Indicates if the customer lives with any dependents: Yes, No. Dependents could be children, parents, grandparents, etc.\n",
    "1. `tenure` :  Indicates the total amount of months that the customer has been with the company.\n",
    "1. `PhoneService` : Indicates if the customer subscribes to home phone service with the company: Yes, No\n",
    "1. `MultipleLines` : Indicates if the customer subscribes to multiple telephone lines with the company: Yes, No, No phone service\n",
    "1. `InternetService` : Indicates if the customer subscribes to Internet service with the company: No, DSL, Fiber Optic\n",
    "1. `OnlineSecurity` : Indicates if the customer subscribes to an additional online security service provided by the company: Yes, No, No internet service\n",
    "1. `OnlineBackup` : Indicates if the customer subscribes to an additional online backup service provided by the company: Yes, No, No internet service\n",
    "1. `DeviceProtection` : Indicates if the customer subscribes to an additional device protection plan for their Internet equipment provided by the company: Yes, No, No internet service\n",
    "1. `TechSupport` : Indicates if the customer subscribes to an additional technical support plan from the company with reduced wait times: Yes, No, No internet service\n",
    "1. `StreamingTV` : Indicates if the customer uses their Internet service to stream television programing from a third party provider: Yes, No, No internet service\n",
    "1. `StreamingMovies` : Indicates if the customer uses their Internet service to stream movies from a third party provider: Yes, No, No internet service\n",
    "1. `Contract` : Indicates the customer’s current contract type: Month-to-Month, One Year, Two Year.\n",
    "1. `PaperlessBilling` : Indicates if the customer has chosen paperless billing: Yes, No\n",
    "1. `PaymentMethod` : Indicates how the customer pays their bill: Bank Transfer, Credit Card, Electronic Check, Mailed Check\n",
    "1. `MonthlyCharges` : Indicates the customer’s current total monthly charge for all their services from the company.\n",
    "1. `TotalCharges` : Indicates the customer’s total charges.\n",
    "1. `Churn` : Yes = the customer left the company. No = the customer remained with the company.\n",
    "\n",
    "### Objective\n",
    "\n",
    "- Predict whether a customer will churn and stop using the services\n",
    "\n",
    "### Problem Statement\n",
    "\n",
    "- What features are going to be useful as predictors?"
   ]
  },
  {
   "cell_type": "markdown",
   "metadata": {},
   "source": [
    "# 2. Importing Libraries"
   ]
  },
  {
   "cell_type": "code",
   "execution_count": 1,
   "metadata": {},
   "outputs": [],
   "source": [
    "# importing libraries\n",
    "import numpy as np\n",
    "import pandas as pd\n",
    "import matplotlib.pyplot as plt\n",
    "import seaborn as sns\n",
    "from pathlib import Path\n",
    "\n",
    "import joblib\n",
    "\n",
    "import warnings\n",
    "warnings.filterwarnings('ignore')\n",
    "\n",
    "# For Data Preprocessing\n",
    "from imblearn.over_sampling import SMOTENC\n",
    "from sklearn.compose import ColumnTransformer\n",
    "\n",
    "# Split Dataset and Standarize the Datasets\n",
    "from sklearn.model_selection import train_test_split\n",
    "from sklearn.preprocessing import StandardScaler\n",
    "from sklearn.preprocessing import OneHotEncoder\n",
    "from sklearn.preprocessing import LabelEncoder\n",
    "\n",
    "# Neural Network\n",
    "import tensorflow as tf\n",
    "from tensorflow import keras\n",
    "\n",
    "# Evaluate Classification Models\n",
    "from sklearn.metrics import classification_report\n",
    "\n",
    "# # Useful functions\n",
    "# from packages.checker import check_missing\n",
    "# from packages.outlier_handling import outlier_summary\n",
    "# from packages.imputation_handling import impute_total_charges\n",
    "# from packages.imputation_handling import impute_no_phone_internet\n",
    "# from packages.visualization import kdeplot, plot_loss, plot_acc\n",
    "\n",
    "pd.set_option('display.precision', 2)\n",
    "\n",
    "sns.set_theme(style='darkgrid', palette='Set1')\n",
    "\n",
    "# set random seed for reproducibility\n",
    "np.random.seed(42)\n",
    "tf.random.set_seed(42)\n",
    "\n",
    "%matplotlib inline"
   ]
  },
  {
   "cell_type": "markdown",
   "metadata": {},
   "source": [
    "# 3. Data Loading"
   ]
  },
  {
   "cell_type": "code",
   "execution_count": 2,
   "metadata": {},
   "outputs": [
    {
     "data": {
      "text/html": [
       "<div>\n",
       "<style scoped>\n",
       "    .dataframe tbody tr th:only-of-type {\n",
       "        vertical-align: middle;\n",
       "    }\n",
       "\n",
       "    .dataframe tbody tr th {\n",
       "        vertical-align: top;\n",
       "    }\n",
       "\n",
       "    .dataframe thead th {\n",
       "        text-align: right;\n",
       "    }\n",
       "</style>\n",
       "<table border=\"1\" class=\"dataframe\">\n",
       "  <thead>\n",
       "    <tr style=\"text-align: right;\">\n",
       "      <th></th>\n",
       "      <th>ln_id</th>\n",
       "      <th>target</th>\n",
       "      <th>contract_type</th>\n",
       "      <th>gender</th>\n",
       "      <th>num_children</th>\n",
       "      <th>income</th>\n",
       "      <th>approved_credit</th>\n",
       "      <th>annuity</th>\n",
       "      <th>price</th>\n",
       "      <th>income_type</th>\n",
       "      <th>...</th>\n",
       "      <th>days_age</th>\n",
       "      <th>days_work</th>\n",
       "      <th>days_registration</th>\n",
       "      <th>days_id_change</th>\n",
       "      <th>weekdays_apply</th>\n",
       "      <th>hour_apply</th>\n",
       "      <th>organization_type</th>\n",
       "      <th>ext_score_1</th>\n",
       "      <th>ext_score_2</th>\n",
       "      <th>ext_score_3</th>\n",
       "    </tr>\n",
       "  </thead>\n",
       "  <tbody>\n",
       "    <tr>\n",
       "      <th>0</th>\n",
       "      <td>333538</td>\n",
       "      <td>0</td>\n",
       "      <td>Revolving loans</td>\n",
       "      <td>F</td>\n",
       "      <td>1</td>\n",
       "      <td>67500.0</td>\n",
       "      <td>202500.0</td>\n",
       "      <td>10125.0</td>\n",
       "      <td>202500.0</td>\n",
       "      <td>Working</td>\n",
       "      <td>...</td>\n",
       "      <td>-11539</td>\n",
       "      <td>-921</td>\n",
       "      <td>-119.0</td>\n",
       "      <td>-2757</td>\n",
       "      <td>TUESDAY</td>\n",
       "      <td>18</td>\n",
       "      <td>Business Entity Type 3</td>\n",
       "      <td>0.57</td>\n",
       "      <td>0.61</td>\n",
       "      <td>NaN</td>\n",
       "    </tr>\n",
       "    <tr>\n",
       "      <th>1</th>\n",
       "      <td>406644</td>\n",
       "      <td>0</td>\n",
       "      <td>Cash loans</td>\n",
       "      <td>F</td>\n",
       "      <td>1</td>\n",
       "      <td>202500.0</td>\n",
       "      <td>976711.5</td>\n",
       "      <td>49869.0</td>\n",
       "      <td>873000.0</td>\n",
       "      <td>Commercial associate</td>\n",
       "      <td>...</td>\n",
       "      <td>-15743</td>\n",
       "      <td>-4482</td>\n",
       "      <td>-1797.0</td>\n",
       "      <td>-2455</td>\n",
       "      <td>TUESDAY</td>\n",
       "      <td>14</td>\n",
       "      <td>Other</td>\n",
       "      <td>0.66</td>\n",
       "      <td>0.68</td>\n",
       "      <td>NaN</td>\n",
       "    </tr>\n",
       "    <tr>\n",
       "      <th>2</th>\n",
       "      <td>259130</td>\n",
       "      <td>0</td>\n",
       "      <td>Cash loans</td>\n",
       "      <td>F</td>\n",
       "      <td>0</td>\n",
       "      <td>180000.0</td>\n",
       "      <td>407520.0</td>\n",
       "      <td>25060.5</td>\n",
       "      <td>360000.0</td>\n",
       "      <td>Pensioner</td>\n",
       "      <td>...</td>\n",
       "      <td>-20775</td>\n",
       "      <td>365243</td>\n",
       "      <td>-8737.0</td>\n",
       "      <td>-4312</td>\n",
       "      <td>THURSDAY</td>\n",
       "      <td>14</td>\n",
       "      <td>NA1</td>\n",
       "      <td>NaN</td>\n",
       "      <td>0.58</td>\n",
       "      <td>0.75</td>\n",
       "    </tr>\n",
       "    <tr>\n",
       "      <th>3</th>\n",
       "      <td>411997</td>\n",
       "      <td>0</td>\n",
       "      <td>Cash loans</td>\n",
       "      <td>M</td>\n",
       "      <td>0</td>\n",
       "      <td>225000.0</td>\n",
       "      <td>808650.0</td>\n",
       "      <td>26086.5</td>\n",
       "      <td>675000.0</td>\n",
       "      <td>State servant</td>\n",
       "      <td>...</td>\n",
       "      <td>-20659</td>\n",
       "      <td>-10455</td>\n",
       "      <td>-4998.0</td>\n",
       "      <td>-4010</td>\n",
       "      <td>WEDNESDAY</td>\n",
       "      <td>10</td>\n",
       "      <td>Culture</td>\n",
       "      <td>NaN</td>\n",
       "      <td>0.62</td>\n",
       "      <td>0.71</td>\n",
       "    </tr>\n",
       "    <tr>\n",
       "      <th>4</th>\n",
       "      <td>241559</td>\n",
       "      <td>0</td>\n",
       "      <td>Revolving loans</td>\n",
       "      <td>M</td>\n",
       "      <td>0</td>\n",
       "      <td>135000.0</td>\n",
       "      <td>180000.0</td>\n",
       "      <td>9000.0</td>\n",
       "      <td>180000.0</td>\n",
       "      <td>Commercial associate</td>\n",
       "      <td>...</td>\n",
       "      <td>-9013</td>\n",
       "      <td>-1190</td>\n",
       "      <td>-3524.0</td>\n",
       "      <td>-1644</td>\n",
       "      <td>SUNDAY</td>\n",
       "      <td>11</td>\n",
       "      <td>Construction</td>\n",
       "      <td>0.18</td>\n",
       "      <td>0.49</td>\n",
       "      <td>0.09</td>\n",
       "    </tr>\n",
       "  </tbody>\n",
       "</table>\n",
       "<p>5 rows × 23 columns</p>\n",
       "</div>"
      ],
      "text/plain": [
       "    ln_id  target    contract_type gender  num_children    income  \\\n",
       "0  333538       0  Revolving loans      F             1   67500.0   \n",
       "1  406644       0       Cash loans      F             1  202500.0   \n",
       "2  259130       0       Cash loans      F             0  180000.0   \n",
       "3  411997       0       Cash loans      M             0  225000.0   \n",
       "4  241559       0  Revolving loans      M             0  135000.0   \n",
       "\n",
       "   approved_credit  annuity     price           income_type  ... days_age  \\\n",
       "0         202500.0  10125.0  202500.0               Working  ...   -11539   \n",
       "1         976711.5  49869.0  873000.0  Commercial associate  ...   -15743   \n",
       "2         407520.0  25060.5  360000.0             Pensioner  ...   -20775   \n",
       "3         808650.0  26086.5  675000.0         State servant  ...   -20659   \n",
       "4         180000.0   9000.0  180000.0  Commercial associate  ...    -9013   \n",
       "\n",
       "  days_work days_registration  days_id_change  weekdays_apply  hour_apply  \\\n",
       "0      -921            -119.0           -2757         TUESDAY          18   \n",
       "1     -4482           -1797.0           -2455         TUESDAY          14   \n",
       "2    365243           -8737.0           -4312        THURSDAY          14   \n",
       "3    -10455           -4998.0           -4010       WEDNESDAY          10   \n",
       "4     -1190           -3524.0           -1644          SUNDAY          11   \n",
       "\n",
       "        organization_type ext_score_1  ext_score_2 ext_score_3  \n",
       "0  Business Entity Type 3        0.57         0.61         NaN  \n",
       "1                   Other        0.66         0.68         NaN  \n",
       "2                     NA1         NaN         0.58        0.75  \n",
       "3                 Culture         NaN         0.62        0.71  \n",
       "4            Construction        0.18         0.49        0.09  \n",
       "\n",
       "[5 rows x 23 columns]"
      ]
     },
     "execution_count": 2,
     "metadata": {},
     "output_type": "execute_result"
    }
   ],
   "source": [
    "# load application dataset\n",
    "df_ori = pd.read_csv('data/app_train.csv')\n",
    "df_ori = df_ori.drop(['Unnamed: 0'], axis=1)\n",
    "# make column names lowercase\n",
    "df_ori.columns = df_ori.columns.str.lower()\n",
    "app_train = df_ori.copy()\n",
    "\n",
    "# load previous application dataset\n",
    "prev = pd.read_csv('data/prev_app.csv')\n",
    "prev = prev.drop(['Unnamed: 0'], axis=1)\n",
    "prev.columns = prev.columns.str.lower()\n",
    "\n",
    "# load installment dataset\n",
    "installment = pd.read_csv('data/installment_payment.csv')\n",
    "installment = installment.drop(['Unnamed: 0'], axis=1)\n",
    "installment.columns = installment.columns.str.lower()\n",
    "\n",
    "# display the first 5 entries of the data\n",
    "app_train.head()"
   ]
  },
  {
   "cell_type": "code",
   "execution_count": 3,
   "metadata": {},
   "outputs": [
    {
     "name": "stdout",
     "output_type": "stream",
     "text": [
      "<class 'pandas.core.frame.DataFrame'>\n",
      "RangeIndex: 61503 entries, 0 to 61502\n",
      "Data columns (total 23 columns):\n",
      " #   Column             Non-Null Count  Dtype  \n",
      "---  ------             --------------  -----  \n",
      " 0   ln_id              61503 non-null  int64  \n",
      " 1   target             61503 non-null  int64  \n",
      " 2   contract_type      61503 non-null  object \n",
      " 3   gender             61503 non-null  object \n",
      " 4   num_children       61503 non-null  int64  \n",
      " 5   income             61503 non-null  float64\n",
      " 6   approved_credit    61503 non-null  float64\n",
      " 7   annuity            61502 non-null  float64\n",
      " 8   price              61441 non-null  float64\n",
      " 9   income_type        61503 non-null  object \n",
      " 10  education          61503 non-null  object \n",
      " 11  family_status      61503 non-null  object \n",
      " 12  housing_type       61503 non-null  object \n",
      " 13  days_age           61503 non-null  int64  \n",
      " 14  days_work          61503 non-null  int64  \n",
      " 15  days_registration  61503 non-null  float64\n",
      " 16  days_id_change     61503 non-null  int64  \n",
      " 17  weekdays_apply     61503 non-null  object \n",
      " 18  hour_apply         61503 non-null  int64  \n",
      " 19  organization_type  61503 non-null  object \n",
      " 20  ext_score_1        26658 non-null  float64\n",
      " 21  ext_score_2        61369 non-null  float64\n",
      " 22  ext_score_3        49264 non-null  float64\n",
      "dtypes: float64(8), int64(7), object(8)\n",
      "memory usage: 10.8+ MB\n"
     ]
    }
   ],
   "source": [
    "app_train.info()"
   ]
  },
  {
   "cell_type": "code",
   "execution_count": 4,
   "metadata": {},
   "outputs": [
    {
     "name": "stdout",
     "output_type": "stream",
     "text": [
      "<class 'pandas.core.frame.DataFrame'>\n",
      "RangeIndex: 350712 entries, 0 to 350711\n",
      "Data columns (total 18 columns):\n",
      " #   Column                     Non-Null Count   Dtype  \n",
      "---  ------                     --------------   -----  \n",
      " 0   sk_id_prev                 350712 non-null  int64  \n",
      " 1   ln_id                      350712 non-null  int64  \n",
      " 2   contract_type              350712 non-null  object \n",
      " 3   annuity                    274103 non-null  float64\n",
      " 4   application                350712 non-null  float64\n",
      " 5   approved_credit            350712 non-null  float64\n",
      " 6   amt_down_payment           164205 non-null  float64\n",
      " 7   price                      271072 non-null  float64\n",
      " 8   weekdays_apply             350712 non-null  object \n",
      " 9   hour_apply                 350712 non-null  int64  \n",
      " 10  contract_status            350712 non-null  object \n",
      " 11  days_decision              350712 non-null  int64  \n",
      " 12  term_payment               274103 non-null  float64\n",
      " 13  yield_group                350712 non-null  object \n",
      " 14  first_draw                 211407 non-null  float64\n",
      " 15  first_due                  211407 non-null  float64\n",
      " 16  termination                211407 non-null  float64\n",
      " 17  nflag_insured_on_approval  211407 non-null  float64\n",
      "dtypes: float64(10), int64(4), object(4)\n",
      "memory usage: 48.2+ MB\n"
     ]
    }
   ],
   "source": [
    "prev.info()"
   ]
  },
  {
   "cell_type": "code",
   "execution_count": 5,
   "metadata": {},
   "outputs": [
    {
     "name": "stdout",
     "output_type": "stream",
     "text": [
      "<class 'pandas.core.frame.DataFrame'>\n",
      "RangeIndex: 2872306 entries, 0 to 2872305\n",
      "Data columns (total 7 columns):\n",
      " #   Column       Dtype  \n",
      "---  ------       -----  \n",
      " 0   sk_id_prev   int64  \n",
      " 1   ln_id        int64  \n",
      " 2   inst_number  int64  \n",
      " 3   inst_days    float64\n",
      " 4   pay_days     float64\n",
      " 5   amt_inst     float64\n",
      " 6   amt_pay      float64\n",
      "dtypes: float64(4), int64(3)\n",
      "memory usage: 153.4 MB\n"
     ]
    }
   ],
   "source": [
    "installment.info()"
   ]
  },
  {
   "cell_type": "code",
   "execution_count": 6,
   "metadata": {},
   "outputs": [
    {
     "data": {
      "text/plain": [
       "ln_id                                       333538\n",
       "target                                           0\n",
       "contract_type                      Revolving loans\n",
       "gender                                           F\n",
       "num_children                                     1\n",
       "income                                     67500.0\n",
       "approved_credit                           202500.0\n",
       "annuity                                    10125.0\n",
       "price                                     202500.0\n",
       "income_type                                Working\n",
       "education            Secondary / secondary special\n",
       "family_status                              Married\n",
       "housing_type                          With parents\n",
       "days_age                                    -11539\n",
       "days_work                                     -921\n",
       "days_registration                           -119.0\n",
       "days_id_change                               -2757\n",
       "weekdays_apply                             TUESDAY\n",
       "hour_apply                                      18\n",
       "organization_type           Business Entity Type 3\n",
       "ext_score_1                                   0.57\n",
       "ext_score_2                                   0.61\n",
       "ext_score_3                                    NaN\n",
       "Name: 0, dtype: object"
      ]
     },
     "execution_count": 6,
     "metadata": {},
     "output_type": "execute_result"
    }
   ],
   "source": [
    "app_train.iloc[0]"
   ]
  },
  {
   "cell_type": "code",
   "execution_count": 7,
   "metadata": {},
   "outputs": [
    {
     "data": {
      "text/html": [
       "<div>\n",
       "<style scoped>\n",
       "    .dataframe tbody tr th:only-of-type {\n",
       "        vertical-align: middle;\n",
       "    }\n",
       "\n",
       "    .dataframe tbody tr th {\n",
       "        vertical-align: top;\n",
       "    }\n",
       "\n",
       "    .dataframe thead th {\n",
       "        text-align: right;\n",
       "    }\n",
       "</style>\n",
       "<table border=\"1\" class=\"dataframe\">\n",
       "  <thead>\n",
       "    <tr style=\"text-align: right;\">\n",
       "      <th></th>\n",
       "      <th>sk_id_prev</th>\n",
       "      <th>ln_id</th>\n",
       "      <th>contract_type</th>\n",
       "      <th>annuity</th>\n",
       "      <th>application</th>\n",
       "      <th>approved_credit</th>\n",
       "      <th>amt_down_payment</th>\n",
       "      <th>price</th>\n",
       "      <th>weekdays_apply</th>\n",
       "      <th>hour_apply</th>\n",
       "      <th>contract_status</th>\n",
       "      <th>days_decision</th>\n",
       "      <th>term_payment</th>\n",
       "      <th>yield_group</th>\n",
       "      <th>first_draw</th>\n",
       "      <th>first_due</th>\n",
       "      <th>termination</th>\n",
       "      <th>nflag_insured_on_approval</th>\n",
       "    </tr>\n",
       "  </thead>\n",
       "  <tbody>\n",
       "    <tr>\n",
       "      <th>0</th>\n",
       "      <td>2030495</td>\n",
       "      <td>271877</td>\n",
       "      <td>Consumer loans</td>\n",
       "      <td>1730.43</td>\n",
       "      <td>17145.0</td>\n",
       "      <td>17145.0</td>\n",
       "      <td>0.0</td>\n",
       "      <td>17145.0</td>\n",
       "      <td>SATURDAY</td>\n",
       "      <td>15</td>\n",
       "      <td>Approved</td>\n",
       "      <td>-73</td>\n",
       "      <td>12.0</td>\n",
       "      <td>middle</td>\n",
       "      <td>365243.0</td>\n",
       "      <td>-42.0</td>\n",
       "      <td>-37.0</td>\n",
       "      <td>0.0</td>\n",
       "    </tr>\n",
       "    <tr>\n",
       "      <th>1</th>\n",
       "      <td>2819243</td>\n",
       "      <td>176158</td>\n",
       "      <td>Cash loans</td>\n",
       "      <td>47041.33</td>\n",
       "      <td>450000.0</td>\n",
       "      <td>470790.0</td>\n",
       "      <td>NaN</td>\n",
       "      <td>450000.0</td>\n",
       "      <td>MONDAY</td>\n",
       "      <td>7</td>\n",
       "      <td>Approved</td>\n",
       "      <td>-512</td>\n",
       "      <td>12.0</td>\n",
       "      <td>middle</td>\n",
       "      <td>365243.0</td>\n",
       "      <td>-482.0</td>\n",
       "      <td>-177.0</td>\n",
       "      <td>1.0</td>\n",
       "    </tr>\n",
       "    <tr>\n",
       "      <th>2</th>\n",
       "      <td>1383531</td>\n",
       "      <td>199383</td>\n",
       "      <td>Cash loans</td>\n",
       "      <td>23703.93</td>\n",
       "      <td>315000.0</td>\n",
       "      <td>340573.5</td>\n",
       "      <td>NaN</td>\n",
       "      <td>315000.0</td>\n",
       "      <td>SATURDAY</td>\n",
       "      <td>8</td>\n",
       "      <td>Approved</td>\n",
       "      <td>-684</td>\n",
       "      <td>18.0</td>\n",
       "      <td>low_normal</td>\n",
       "      <td>365243.0</td>\n",
       "      <td>-654.0</td>\n",
       "      <td>-137.0</td>\n",
       "      <td>1.0</td>\n",
       "    </tr>\n",
       "    <tr>\n",
       "      <th>3</th>\n",
       "      <td>2315218</td>\n",
       "      <td>175704</td>\n",
       "      <td>Cash loans</td>\n",
       "      <td>NaN</td>\n",
       "      <td>0.0</td>\n",
       "      <td>0.0</td>\n",
       "      <td>NaN</td>\n",
       "      <td>NaN</td>\n",
       "      <td>TUESDAY</td>\n",
       "      <td>11</td>\n",
       "      <td>Canceled</td>\n",
       "      <td>-14</td>\n",
       "      <td>NaN</td>\n",
       "      <td>NA1</td>\n",
       "      <td>NaN</td>\n",
       "      <td>NaN</td>\n",
       "      <td>NaN</td>\n",
       "      <td>NaN</td>\n",
       "    </tr>\n",
       "    <tr>\n",
       "      <th>4</th>\n",
       "      <td>1715995</td>\n",
       "      <td>447712</td>\n",
       "      <td>Cash loans</td>\n",
       "      <td>11368.62</td>\n",
       "      <td>270000.0</td>\n",
       "      <td>335754.0</td>\n",
       "      <td>NaN</td>\n",
       "      <td>270000.0</td>\n",
       "      <td>FRIDAY</td>\n",
       "      <td>7</td>\n",
       "      <td>Approved</td>\n",
       "      <td>-735</td>\n",
       "      <td>54.0</td>\n",
       "      <td>low_normal</td>\n",
       "      <td>365243.0</td>\n",
       "      <td>-705.0</td>\n",
       "      <td>-334.0</td>\n",
       "      <td>1.0</td>\n",
       "    </tr>\n",
       "  </tbody>\n",
       "</table>\n",
       "</div>"
      ],
      "text/plain": [
       "   sk_id_prev   ln_id   contract_type   annuity  application  approved_credit  \\\n",
       "0     2030495  271877  Consumer loans   1730.43      17145.0          17145.0   \n",
       "1     2819243  176158      Cash loans  47041.33     450000.0         470790.0   \n",
       "2     1383531  199383      Cash loans  23703.93     315000.0         340573.5   \n",
       "3     2315218  175704      Cash loans       NaN          0.0              0.0   \n",
       "4     1715995  447712      Cash loans  11368.62     270000.0         335754.0   \n",
       "\n",
       "   amt_down_payment     price weekdays_apply  hour_apply contract_status  \\\n",
       "0               0.0   17145.0       SATURDAY          15        Approved   \n",
       "1               NaN  450000.0         MONDAY           7        Approved   \n",
       "2               NaN  315000.0       SATURDAY           8        Approved   \n",
       "3               NaN       NaN        TUESDAY          11        Canceled   \n",
       "4               NaN  270000.0         FRIDAY           7        Approved   \n",
       "\n",
       "   days_decision  term_payment yield_group  first_draw  first_due  \\\n",
       "0            -73          12.0      middle    365243.0      -42.0   \n",
       "1           -512          12.0      middle    365243.0     -482.0   \n",
       "2           -684          18.0  low_normal    365243.0     -654.0   \n",
       "3            -14           NaN         NA1         NaN        NaN   \n",
       "4           -735          54.0  low_normal    365243.0     -705.0   \n",
       "\n",
       "   termination  nflag_insured_on_approval  \n",
       "0        -37.0                        0.0  \n",
       "1       -177.0                        1.0  \n",
       "2       -137.0                        1.0  \n",
       "3          NaN                        NaN  \n",
       "4       -334.0                        1.0  "
      ]
     },
     "execution_count": 7,
     "metadata": {},
     "output_type": "execute_result"
    }
   ],
   "source": [
    "prev.head()"
   ]
  },
  {
   "cell_type": "code",
   "execution_count": 8,
   "metadata": {},
   "outputs": [],
   "source": [
    "# create a list of all new ln_id\n",
    "new_ln_id = app_train[~app_train['ln_id'].isin(prev[prev['ln_id'].isin(app_train['ln_id'].unique())]['ln_id'])]['ln_id'].values"
   ]
  },
  {
   "cell_type": "code",
   "execution_count": 9,
   "metadata": {},
   "outputs": [
    {
     "data": {
      "text/plain": [
       "array(['Consumer loans', 'Cash loans', 'Revolving loans', 'NA1'],\n",
       "      dtype=object)"
      ]
     },
     "execution_count": 9,
     "metadata": {},
     "output_type": "execute_result"
    }
   ],
   "source": [
    "prev['contract_type'].unique()"
   ]
  },
  {
   "cell_type": "code",
   "execution_count": 12,
   "metadata": {},
   "outputs": [
    {
     "data": {
      "text/plain": [
       "array(['Approved', 'Canceled', 'Refused', 'Unused offer'], dtype=object)"
      ]
     },
     "execution_count": 12,
     "metadata": {},
     "output_type": "execute_result"
    }
   ],
   "source": [
    "prev['contract_status'].unique()"
   ]
  },
  {
   "cell_type": "code",
   "execution_count": 14,
   "metadata": {},
   "outputs": [
    {
     "data": {
      "text/plain": [
       "array(['Canceled', 'Refused'], dtype=object)"
      ]
     },
     "execution_count": 14,
     "metadata": {},
     "output_type": "execute_result"
    }
   ],
   "source": [
    "prev[prev['contract_type'] == 'NA1']['contract_status'].unique()"
   ]
  },
  {
   "cell_type": "code",
   "execution_count": 33,
   "metadata": {},
   "outputs": [
    {
     "data": {
      "text/plain": [
       "0    20325\n",
       "1     1917\n",
       "Name: target, dtype: int64"
      ]
     },
     "execution_count": 33,
     "metadata": {},
     "output_type": "execute_result"
    }
   ],
   "source": [
    "app_train[app_train['ln_id'].isin(prev[prev['contract_status'] == 'Canceled']['ln_id'].unique())]['target'].value_counts()"
   ]
  },
  {
   "cell_type": "code",
   "execution_count": 22,
   "metadata": {},
   "outputs": [
    {
     "data": {
      "text/html": [
       "<div>\n",
       "<style scoped>\n",
       "    .dataframe tbody tr th:only-of-type {\n",
       "        vertical-align: middle;\n",
       "    }\n",
       "\n",
       "    .dataframe tbody tr th {\n",
       "        vertical-align: top;\n",
       "    }\n",
       "\n",
       "    .dataframe thead th {\n",
       "        text-align: right;\n",
       "    }\n",
       "</style>\n",
       "<table border=\"1\" class=\"dataframe\">\n",
       "  <thead>\n",
       "    <tr style=\"text-align: right;\">\n",
       "      <th></th>\n",
       "      <th>sk_id_prev</th>\n",
       "      <th>ln_id</th>\n",
       "      <th>contract_type</th>\n",
       "      <th>annuity</th>\n",
       "      <th>application</th>\n",
       "      <th>approved_credit</th>\n",
       "      <th>amt_down_payment</th>\n",
       "      <th>price</th>\n",
       "      <th>weekdays_apply</th>\n",
       "      <th>hour_apply</th>\n",
       "      <th>contract_status</th>\n",
       "      <th>days_decision</th>\n",
       "      <th>term_payment</th>\n",
       "      <th>yield_group</th>\n",
       "      <th>first_draw</th>\n",
       "      <th>first_due</th>\n",
       "      <th>termination</th>\n",
       "      <th>nflag_insured_on_approval</th>\n",
       "    </tr>\n",
       "  </thead>\n",
       "  <tbody>\n",
       "    <tr>\n",
       "      <th>12</th>\n",
       "      <td>2012211</td>\n",
       "      <td>282125</td>\n",
       "      <td>Revolving loans</td>\n",
       "      <td>33750.00</td>\n",
       "      <td>0.00e+00</td>\n",
       "      <td>6.75e+05</td>\n",
       "      <td>NaN</td>\n",
       "      <td>NaN</td>\n",
       "      <td>FRIDAY</td>\n",
       "      <td>17</td>\n",
       "      <td>Refused</td>\n",
       "      <td>-568</td>\n",
       "      <td>0.0</td>\n",
       "      <td>NA1</td>\n",
       "      <td>NaN</td>\n",
       "      <td>NaN</td>\n",
       "      <td>NaN</td>\n",
       "      <td>NaN</td>\n",
       "    </tr>\n",
       "    <tr>\n",
       "      <th>28</th>\n",
       "      <td>1892110</td>\n",
       "      <td>372945</td>\n",
       "      <td>Consumer loans</td>\n",
       "      <td>12607.69</td>\n",
       "      <td>7.56e+04</td>\n",
       "      <td>6.81e+04</td>\n",
       "      <td>7564.1</td>\n",
       "      <td>7.56e+04</td>\n",
       "      <td>TUESDAY</td>\n",
       "      <td>10</td>\n",
       "      <td>Refused</td>\n",
       "      <td>-2654</td>\n",
       "      <td>6.0</td>\n",
       "      <td>middle</td>\n",
       "      <td>NaN</td>\n",
       "      <td>NaN</td>\n",
       "      <td>NaN</td>\n",
       "      <td>NaN</td>\n",
       "    </tr>\n",
       "    <tr>\n",
       "      <th>50</th>\n",
       "      <td>2724439</td>\n",
       "      <td>163961</td>\n",
       "      <td>Cash loans</td>\n",
       "      <td>39369.60</td>\n",
       "      <td>3.60e+05</td>\n",
       "      <td>3.60e+05</td>\n",
       "      <td>0.0</td>\n",
       "      <td>3.60e+05</td>\n",
       "      <td>WEDNESDAY</td>\n",
       "      <td>12</td>\n",
       "      <td>Refused</td>\n",
       "      <td>-2337</td>\n",
       "      <td>12.0</td>\n",
       "      <td>high</td>\n",
       "      <td>NaN</td>\n",
       "      <td>NaN</td>\n",
       "      <td>NaN</td>\n",
       "      <td>NaN</td>\n",
       "    </tr>\n",
       "    <tr>\n",
       "      <th>52</th>\n",
       "      <td>1656819</td>\n",
       "      <td>324462</td>\n",
       "      <td>Consumer loans</td>\n",
       "      <td>NaN</td>\n",
       "      <td>1.13e+05</td>\n",
       "      <td>1.13e+05</td>\n",
       "      <td>NaN</td>\n",
       "      <td>1.13e+05</td>\n",
       "      <td>THURSDAY</td>\n",
       "      <td>13</td>\n",
       "      <td>Refused</td>\n",
       "      <td>-1075</td>\n",
       "      <td>NaN</td>\n",
       "      <td>NA1</td>\n",
       "      <td>NaN</td>\n",
       "      <td>NaN</td>\n",
       "      <td>NaN</td>\n",
       "      <td>NaN</td>\n",
       "    </tr>\n",
       "    <tr>\n",
       "      <th>53</th>\n",
       "      <td>1741220</td>\n",
       "      <td>181080</td>\n",
       "      <td>Revolving loans</td>\n",
       "      <td>6750.00</td>\n",
       "      <td>1.35e+05</td>\n",
       "      <td>1.35e+05</td>\n",
       "      <td>NaN</td>\n",
       "      <td>1.35e+05</td>\n",
       "      <td>SATURDAY</td>\n",
       "      <td>12</td>\n",
       "      <td>Refused</td>\n",
       "      <td>-538</td>\n",
       "      <td>0.0</td>\n",
       "      <td>NA1</td>\n",
       "      <td>NaN</td>\n",
       "      <td>NaN</td>\n",
       "      <td>NaN</td>\n",
       "      <td>NaN</td>\n",
       "    </tr>\n",
       "    <tr>\n",
       "      <th>...</th>\n",
       "      <td>...</td>\n",
       "      <td>...</td>\n",
       "      <td>...</td>\n",
       "      <td>...</td>\n",
       "      <td>...</td>\n",
       "      <td>...</td>\n",
       "      <td>...</td>\n",
       "      <td>...</td>\n",
       "      <td>...</td>\n",
       "      <td>...</td>\n",
       "      <td>...</td>\n",
       "      <td>...</td>\n",
       "      <td>...</td>\n",
       "      <td>...</td>\n",
       "      <td>...</td>\n",
       "      <td>...</td>\n",
       "      <td>...</td>\n",
       "      <td>...</td>\n",
       "    </tr>\n",
       "    <tr>\n",
       "      <th>350703</th>\n",
       "      <td>2405492</td>\n",
       "      <td>154531</td>\n",
       "      <td>Cash loans</td>\n",
       "      <td>NaN</td>\n",
       "      <td>0.00e+00</td>\n",
       "      <td>0.00e+00</td>\n",
       "      <td>NaN</td>\n",
       "      <td>NaN</td>\n",
       "      <td>FRIDAY</td>\n",
       "      <td>11</td>\n",
       "      <td>Refused</td>\n",
       "      <td>-200</td>\n",
       "      <td>NaN</td>\n",
       "      <td>NA1</td>\n",
       "      <td>NaN</td>\n",
       "      <td>NaN</td>\n",
       "      <td>NaN</td>\n",
       "      <td>NaN</td>\n",
       "    </tr>\n",
       "    <tr>\n",
       "      <th>350704</th>\n",
       "      <td>2656210</td>\n",
       "      <td>223981</td>\n",
       "      <td>Cash loans</td>\n",
       "      <td>26316.00</td>\n",
       "      <td>9.00e+05</td>\n",
       "      <td>9.00e+05</td>\n",
       "      <td>NaN</td>\n",
       "      <td>9.00e+05</td>\n",
       "      <td>THURSDAY</td>\n",
       "      <td>17</td>\n",
       "      <td>Refused</td>\n",
       "      <td>-32</td>\n",
       "      <td>60.0</td>\n",
       "      <td>low_normal</td>\n",
       "      <td>NaN</td>\n",
       "      <td>NaN</td>\n",
       "      <td>NaN</td>\n",
       "      <td>NaN</td>\n",
       "    </tr>\n",
       "    <tr>\n",
       "      <th>350706</th>\n",
       "      <td>1229066</td>\n",
       "      <td>237195</td>\n",
       "      <td>Cash loans</td>\n",
       "      <td>18534.51</td>\n",
       "      <td>2.25e+05</td>\n",
       "      <td>2.55e+05</td>\n",
       "      <td>NaN</td>\n",
       "      <td>2.25e+05</td>\n",
       "      <td>WEDNESDAY</td>\n",
       "      <td>9</td>\n",
       "      <td>Refused</td>\n",
       "      <td>-376</td>\n",
       "      <td>24.0</td>\n",
       "      <td>high</td>\n",
       "      <td>NaN</td>\n",
       "      <td>NaN</td>\n",
       "      <td>NaN</td>\n",
       "      <td>NaN</td>\n",
       "    </tr>\n",
       "    <tr>\n",
       "      <th>350707</th>\n",
       "      <td>1379569</td>\n",
       "      <td>309506</td>\n",
       "      <td>Cash loans</td>\n",
       "      <td>33389.10</td>\n",
       "      <td>1.04e+06</td>\n",
       "      <td>1.04e+06</td>\n",
       "      <td>NaN</td>\n",
       "      <td>1.04e+06</td>\n",
       "      <td>THURSDAY</td>\n",
       "      <td>10</td>\n",
       "      <td>Refused</td>\n",
       "      <td>-156</td>\n",
       "      <td>60.0</td>\n",
       "      <td>low_normal</td>\n",
       "      <td>NaN</td>\n",
       "      <td>NaN</td>\n",
       "      <td>NaN</td>\n",
       "      <td>NaN</td>\n",
       "    </tr>\n",
       "    <tr>\n",
       "      <th>350708</th>\n",
       "      <td>1252861</td>\n",
       "      <td>363895</td>\n",
       "      <td>Cash loans</td>\n",
       "      <td>56754.00</td>\n",
       "      <td>1.35e+06</td>\n",
       "      <td>1.35e+06</td>\n",
       "      <td>NaN</td>\n",
       "      <td>1.35e+06</td>\n",
       "      <td>THURSDAY</td>\n",
       "      <td>16</td>\n",
       "      <td>Refused</td>\n",
       "      <td>-847</td>\n",
       "      <td>48.0</td>\n",
       "      <td>middle</td>\n",
       "      <td>NaN</td>\n",
       "      <td>NaN</td>\n",
       "      <td>NaN</td>\n",
       "      <td>NaN</td>\n",
       "    </tr>\n",
       "  </tbody>\n",
       "</table>\n",
       "<p>60795 rows × 18 columns</p>\n",
       "</div>"
      ],
      "text/plain": [
       "        sk_id_prev   ln_id    contract_type   annuity  application  \\\n",
       "12         2012211  282125  Revolving loans  33750.00     0.00e+00   \n",
       "28         1892110  372945   Consumer loans  12607.69     7.56e+04   \n",
       "50         2724439  163961       Cash loans  39369.60     3.60e+05   \n",
       "52         1656819  324462   Consumer loans       NaN     1.13e+05   \n",
       "53         1741220  181080  Revolving loans   6750.00     1.35e+05   \n",
       "...            ...     ...              ...       ...          ...   \n",
       "350703     2405492  154531       Cash loans       NaN     0.00e+00   \n",
       "350704     2656210  223981       Cash loans  26316.00     9.00e+05   \n",
       "350706     1229066  237195       Cash loans  18534.51     2.25e+05   \n",
       "350707     1379569  309506       Cash loans  33389.10     1.04e+06   \n",
       "350708     1252861  363895       Cash loans  56754.00     1.35e+06   \n",
       "\n",
       "        approved_credit  amt_down_payment     price weekdays_apply  \\\n",
       "12             6.75e+05               NaN       NaN         FRIDAY   \n",
       "28             6.81e+04            7564.1  7.56e+04        TUESDAY   \n",
       "50             3.60e+05               0.0  3.60e+05      WEDNESDAY   \n",
       "52             1.13e+05               NaN  1.13e+05       THURSDAY   \n",
       "53             1.35e+05               NaN  1.35e+05       SATURDAY   \n",
       "...                 ...               ...       ...            ...   \n",
       "350703         0.00e+00               NaN       NaN         FRIDAY   \n",
       "350704         9.00e+05               NaN  9.00e+05       THURSDAY   \n",
       "350706         2.55e+05               NaN  2.25e+05      WEDNESDAY   \n",
       "350707         1.04e+06               NaN  1.04e+06       THURSDAY   \n",
       "350708         1.35e+06               NaN  1.35e+06       THURSDAY   \n",
       "\n",
       "        hour_apply contract_status  days_decision  term_payment yield_group  \\\n",
       "12              17         Refused           -568           0.0         NA1   \n",
       "28              10         Refused          -2654           6.0      middle   \n",
       "50              12         Refused          -2337          12.0        high   \n",
       "52              13         Refused          -1075           NaN         NA1   \n",
       "53              12         Refused           -538           0.0         NA1   \n",
       "...            ...             ...            ...           ...         ...   \n",
       "350703          11         Refused           -200           NaN         NA1   \n",
       "350704          17         Refused            -32          60.0  low_normal   \n",
       "350706           9         Refused           -376          24.0        high   \n",
       "350707          10         Refused           -156          60.0  low_normal   \n",
       "350708          16         Refused           -847          48.0      middle   \n",
       "\n",
       "        first_draw  first_due  termination  nflag_insured_on_approval  \n",
       "12             NaN        NaN          NaN                        NaN  \n",
       "28             NaN        NaN          NaN                        NaN  \n",
       "50             NaN        NaN          NaN                        NaN  \n",
       "52             NaN        NaN          NaN                        NaN  \n",
       "53             NaN        NaN          NaN                        NaN  \n",
       "...            ...        ...          ...                        ...  \n",
       "350703         NaN        NaN          NaN                        NaN  \n",
       "350704         NaN        NaN          NaN                        NaN  \n",
       "350706         NaN        NaN          NaN                        NaN  \n",
       "350707         NaN        NaN          NaN                        NaN  \n",
       "350708         NaN        NaN          NaN                        NaN  \n",
       "\n",
       "[60795 rows x 18 columns]"
      ]
     },
     "execution_count": 22,
     "metadata": {},
     "output_type": "execute_result"
    }
   ],
   "source": [
    "prev[prev['contract_status'] == 'Refused']"
   ]
  },
  {
   "cell_type": "code",
   "execution_count": null,
   "metadata": {},
   "outputs": [],
   "source": [
    "np.array_equal(np.sort(app_train['ln_id'].unique()), np.sort(prev['ln_id'].unique()))"
   ]
  },
  {
   "cell_type": "code",
   "execution_count": null,
   "metadata": {},
   "outputs": [],
   "source": [
    "prev[prev['ln_id'].isin(app_train['ln_id'].unique())]['ln_id'].nunique()"
   ]
  },
  {
   "cell_type": "code",
   "execution_count": null,
   "metadata": {},
   "outputs": [],
   "source": [
    "app_train['ln_id'].nunique()"
   ]
  },
  {
   "cell_type": "code",
   "execution_count": null,
   "metadata": {},
   "outputs": [],
   "source": [
    "prev['ln_id'].nunique()"
   ]
  },
  {
   "cell_type": "code",
   "execution_count": null,
   "metadata": {},
   "outputs": [],
   "source": [
    "# display the last 5 entries of the data\n",
    "df.tail()"
   ]
  },
  {
   "cell_type": "markdown",
   "metadata": {},
   "source": [
    "## Data Understanding"
   ]
  },
  {
   "cell_type": "code",
   "execution_count": null,
   "metadata": {},
   "outputs": [],
   "source": [
    "# check dataset shape\n",
    "df.shape"
   ]
  },
  {
   "cell_type": "markdown",
   "metadata": {},
   "source": [
    "There are 7043 instances and 21 columns of data"
   ]
  },
  {
   "cell_type": "code",
   "execution_count": null,
   "metadata": {},
   "outputs": [],
   "source": [
    "# check dataset info\n",
    "df.info()"
   ]
  },
  {
   "cell_type": "markdown",
   "metadata": {},
   "source": [
    "This is weird. Why would `TotalCharges` have `object` as a dtype? It should be similar to `MonthlyCharges` which is `float64`\\\n",
    "Let's see the unique values"
   ]
  },
  {
   "cell_type": "code",
   "execution_count": null,
   "metadata": {},
   "outputs": [],
   "source": [
    "# check unique values for `TotalCharges` feature\n",
    "print(df['TotalCharges'].unique())"
   ]
  },
  {
   "cell_type": "markdown",
   "metadata": {},
   "source": [
    "Glancing at the unique values, it's clear that they're numbers, but quoted as string.\\\n",
    "Let's convert `TotalCharges` to `number` and pass any errors as `NaN`"
   ]
  },
  {
   "cell_type": "code",
   "execution_count": null,
   "metadata": {},
   "outputs": [],
   "source": [
    "# convert `TotalCharges` to numeric and pass any non-numeric values as NaN\n",
    "df['TotalCharges'] = pd.to_numeric(df['TotalCharges'], errors='coerce')"
   ]
  },
  {
   "cell_type": "markdown",
   "metadata": {},
   "source": [
    "Let's check the info again"
   ]
  },
  {
   "cell_type": "code",
   "execution_count": null,
   "metadata": {},
   "outputs": [],
   "source": [
    "# check dataset info\n",
    "df.info()"
   ]
  },
  {
   "cell_type": "code",
   "execution_count": null,
   "metadata": {},
   "outputs": [],
   "source": [
    "# check duplicate values in dataset\n",
    "df[df.duplicated()]"
   ]
  },
  {
   "cell_type": "markdown",
   "metadata": {},
   "source": [
    "Great! There are no duplicated instances"
   ]
  },
  {
   "cell_type": "code",
   "execution_count": null,
   "metadata": {},
   "outputs": [],
   "source": [
    "# check missing values in dataset\n",
    "check_missing(df)"
   ]
  },
  {
   "cell_type": "markdown",
   "metadata": {},
   "source": [
    "Seems like those 11 missing values were the cause of that `object` data type\\\n",
    "We've got 0.16% missing values in `TotalCharges`"
   ]
  },
  {
   "cell_type": "markdown",
   "metadata": {},
   "source": [
    "## Basic Characteristics of the Dataset"
   ]
  },
  {
   "cell_type": "code",
   "execution_count": null,
   "metadata": {},
   "outputs": [],
   "source": [
    "# check basic stats for numerical features\n",
    "df.describe(percentiles=[0.5]).T"
   ]
  },
  {
   "cell_type": "code",
   "execution_count": null,
   "metadata": {},
   "outputs": [],
   "source": [
    "# check basic stats for features with object dtypes\n",
    "df.describe(include='object').T"
   ]
  },
  {
   "cell_type": "code",
   "execution_count": null,
   "metadata": {},
   "outputs": [],
   "source": [
    "# check the cardinality of each nominal and ordinal features\n",
    "print(\"Nominal and ordinal features cardinality:\")\n",
    "for col in df.columns:\n",
    "    if df[col].nunique() < 20:\n",
    "        print(col, ':', df[col].nunique(), 'unique values \\n', np.sort(df[col].unique()))\n",
    "        print('-' * 100)"
   ]
  },
  {
   "cell_type": "markdown",
   "metadata": {},
   "source": [
    "Let's cover some basic stats of the features in the train set.\n",
    "- "
   ]
  },
  {
   "cell_type": "markdown",
   "metadata": {},
   "source": [
    "## Data Preparation\n",
    "\n",
    "Drop `customerID` because it's an index"
   ]
  },
  {
   "cell_type": "code",
   "execution_count": null,
   "metadata": {},
   "outputs": [],
   "source": [
    "# drop `customerID` from the dataset\n",
    "df = df.drop(['customerID'], axis=1)"
   ]
  },
  {
   "cell_type": "markdown",
   "metadata": {},
   "source": [
    "## Check for Dataset Imbalance\n",
    "\n",
    "Check whether the target variable of the dataset is balance"
   ]
  },
  {
   "cell_type": "code",
   "execution_count": null,
   "metadata": {},
   "outputs": [],
   "source": [
    "# check for imbalance in target variable\n",
    "plt.figure(figsize=(4,5))\n",
    "sns.countplot(data=df, x='Churn')\n",
    "plt.title('Number of customers churned')\n",
    "plt.xlabel(None)\n",
    "plt.ylabel(None)\n",
    "plt.ylim(0, df.shape[0])\n",
    "\n",
    "plt.show()"
   ]
  },
  {
   "cell_type": "markdown",
   "metadata": {},
   "source": [
    "We can see that most customers do not churn and the percentage of churned clients is less than 30% of the dataset.\\\n",
    "That means our dataset is imbalance and we need to stratify when splitting"
   ]
  },
  {
   "cell_type": "markdown",
   "metadata": {},
   "source": [
    "## Splitting Dataset\n",
    "\n",
    "We need to split the dataset into train and test sets before we do any EDA.\\\n",
    "We do our EDA on the train set so as to not have any bias towards the whole dataset."
   ]
  },
  {
   "cell_type": "markdown",
   "metadata": {},
   "source": [
    "### Split train and test set\n",
    "\n",
    "\n",
    "Since the target variable is imbalanced, we use stratified sampling"
   ]
  },
  {
   "cell_type": "code",
   "execution_count": null,
   "metadata": {},
   "outputs": [],
   "source": [
    "# we use stratified sampling to ensure that the distribution of the target variable is balanced\n",
    "df_train_valid, df_test = train_test_split(\n",
    "    df,\n",
    "    test_size=0.20,\n",
    "    random_state=42,\n",
    "    stratify=df['Churn']\n",
    ")\n",
    "\n",
    "print('df_train_valid Size:', df_train_valid.shape)\n",
    "print('df_test Size:', df_test.shape)"
   ]
  },
  {
   "cell_type": "markdown",
   "metadata": {},
   "source": [
    "### Split train and validation set\n",
    "\n",
    "\n",
    "Since the target variable is imbalanced, we use stratified sampling"
   ]
  },
  {
   "cell_type": "code",
   "execution_count": null,
   "metadata": {},
   "outputs": [],
   "source": [
    "# we use stratified sampling to ensure that the distribution of the target variable is balanced\n",
    "df_train, df_valid = train_test_split(\n",
    "    df_train_valid,\n",
    "    test_size=0.20,\n",
    "    random_state=42,\n",
    "    stratify=df_train_valid['Churn']\n",
    ")\n",
    "\n",
    "print('df_train Size:', df_train.shape)\n",
    "print('df_valid Size:', df_valid.shape)"
   ]
  },
  {
   "cell_type": "code",
   "execution_count": null,
   "metadata": {},
   "outputs": [],
   "source": [
    "# backup the train set that we are gonna perform EDA on\n",
    "df_train_ori = df_train.copy()"
   ]
  },
  {
   "cell_type": "markdown",
   "metadata": {},
   "source": [
    "# 4. Exploratory Data Analysis"
   ]
  },
  {
   "cell_type": "markdown",
   "metadata": {},
   "source": [
    "## Subheading 1"
   ]
  }
 ],
 "metadata": {
  "kernelspec": {
   "display_name": "Python 3.10.5 (conda)",
   "language": "python",
   "name": "python3"
  },
  "language_info": {
   "codemirror_mode": {
    "name": "ipython",
    "version": 3
   },
   "file_extension": ".py",
   "mimetype": "text/x-python",
   "name": "python",
   "nbconvert_exporter": "python",
   "pygments_lexer": "ipython3",
   "version": "3.10.5"
  },
  "orig_nbformat": 4,
  "vscode": {
   "interpreter": {
    "hash": "14ddd5de53b5bd14fbed75064b4c5a6d5b28c5d07e5c1fb6643006a7300c5890"
   }
  }
 },
 "nbformat": 4,
 "nbformat_minor": 2
}
